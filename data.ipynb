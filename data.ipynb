{
 "cells": [
  {
   "cell_type": "code",
   "execution_count": 48,
   "metadata": {},
   "outputs": [],
   "source": [
    "import os\n",
    "import glob\n",
    "import numpy as np\n",
    "from tensorflow.keras.preprocessing.image import img_to_array, load_img\n",
    "from tensorflow.keras import layers\n",
    "from tensorflow import keras\n",
    "import tensorflow as tf\n",
    "import cv2"
   ]
  },
  {
   "cell_type": "code",
   "execution_count": 4,
   "metadata": {},
   "outputs": [],
   "source": [
    "categories = [\"Rectangle\", \"Circle\", \"Triangle\"]"
   ]
  },
  {
   "cell_type": "code",
   "execution_count": 30,
   "metadata": {},
   "outputs": [],
   "source": [
    "#setting the path to the directory containing the pics\n",
    "path = './pics'\n",
    "image_dataset_dir = \"./pics\""
   ]
  },
  {
   "cell_type": "code",
   "execution_count": 31,
   "metadata": {},
   "outputs": [
    {
     "data": {
      "text/plain": [
       "['1.jpg',\n",
       " '10.jpg',\n",
       " '11.jpg',\n",
       " '12.jpg',\n",
       " '13.jpg',\n",
       " '14.jpg',\n",
       " '15.jpg',\n",
       " '16.jpg',\n",
       " '17.jpg',\n",
       " '18.jpg',\n",
       " '19.jpg',\n",
       " '2.jpg',\n",
       " '20.jpg',\n",
       " '3.jpg',\n",
       " '4.jpg',\n",
       " '5.jpg',\n",
       " '6.jpg',\n",
       " '7.jpg',\n",
       " '8.jpg',\n",
       " '9.jpg']"
      ]
     },
     "execution_count": 31,
     "metadata": {},
     "output_type": "execute_result"
    }
   ],
   "source": [
    "tone_image_dir = image_dataset_dir + '/' + 'Rectangle'\n",
    "os.listdir(tone_image_dir)"
   ]
  },
  {
   "cell_type": "code",
   "execution_count": 47,
   "metadata": {},
   "outputs": [
    {
     "data": {
      "image/png": "[encoded data removed]",
      "text/plain": [
       "<PIL.Image.Image image mode=L size=280x280>"
      ]
     },
     "execution_count": 47,
     "metadata": {},
     "output_type": "execute_result"
    }
   ],
   "source": [
    "load_img('./pics/circle/1.jpg',color_mode=\"grayscale\")\n",
    "\n",
    "images_dir = './pics'\n",
    "image_file = 'circle/1.jpg'\n",
    "load_img(f'{images_dir}/{image_file}', color_mode=\"grayscale\")"
   ]
  },
  {
   "cell_type": "code",
   "execution_count": 33,
   "metadata": {},
   "outputs": [
    {
     "name": "stdout",
     "output_type": "stream",
     "text": [
      "['circle', 'rectangle', 'triangle']\n"
     ]
    }
   ],
   "source": [
    "print(os.listdir(image_dataset_dir))"
   ]
  },
  {
   "cell_type": "code",
   "execution_count": 54,
   "metadata": {},
   "outputs": [
    {
     "name": "stdout",
     "output_type": "stream",
     "text": [
      "Dataset converted to npy and saved here at ./data_npy/ \n",
      "['circle.npy', 'rectangle.npy', 'triangle.npy']\n"
     ]
    }
   ],
   "source": [
    "new_dataset_folder = \"./data_npy/\"\n",
    "\n",
    "\n",
    "for label in os.listdir(image_dataset_dir):\n",
    "    images_dir= image_dataset_dir + \"/\" + label #return pics/rectangle\n",
    "    if not os.path.isdir(images_dir):\n",
    "        continue\n",
    "\n",
    "    X = []\n",
    "    \n",
    "    for image_file in os.listdir(images_dir):\n",
    "        img = load_img(f'{images_dir}/{image_file}', color_mode=\"grayscale\")\n",
    "        img = img.resize((28, 28))\n",
    "        x = np.ravel(img_to_array(img))\n",
    "        X.append(x)\n",
    "    npy_file = new_dataset_folder + label + '.npy'\n",
    "    np.save(npy_file, X)\n",
    "\n",
    "print('Dataset converted to npy and saved here at %s '%new_dataset_folder)\n",
    "print(os.listdir(new_dataset_folder))"
   ]
  }
 ],
 "metadata": {
  "kernelspec": {
   "display_name": "opencv",
   "language": "python",
   "name": "python3"
  },
  "language_info": {
   "codemirror_mode": {
    "name": "ipython",
    "version": 3
   },
   "file_extension": ".py",
   "mimetype": "text/x-python",
   "name": "python",
   "nbconvert_exporter": "python",
   "pygments_lexer": "ipython3",
   "version": "3.9.13"
  },
  "orig_nbformat": 4
 },
 "nbformat": 4,
 "nbformat_minor": 2
}
